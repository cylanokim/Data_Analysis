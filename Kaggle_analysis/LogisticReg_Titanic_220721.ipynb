{
 "metadata": {
  "language_info": {
   "codemirror_mode": {
    "name": "ipython",
    "version": 3
   },
   "file_extension": ".py",
   "mimetype": "text/x-python",
   "name": "python",
   "nbconvert_exporter": "python",
   "pygments_lexer": "ipython3",
   "version": "3.9.9-final"
  },
  "orig_nbformat": 2,
  "kernelspec": {
   "name": "python3",
   "display_name": "Python 3.9.9 64-bit",
   "metadata": {
    "interpreter": {
     "hash": "e7b3a6034bdbb97517a7e157a868360ea9556fc64bcbd52ab0af112bc2a38087"
    }
   }
  }
 },
 "nbformat": 4,
 "nbformat_minor": 2,
 "cells": [
  {
   "cell_type": "code",
   "execution_count": 197,
   "metadata": {},
   "outputs": [],
   "source": [
    "import numpy as np \n",
    "import pandas as pd  \n",
    "import matplotlib.pyplot as plt \n",
    "import seaborn as sns"
   ]
  },
  {
   "cell_type": "code",
   "execution_count": 198,
   "metadata": {},
   "outputs": [
    {
     "output_type": "execute_result",
     "data": {
      "text/plain": [
       "   survived  pclass     sex   age  sibsp  parch     fare embarked  class  \\\n",
       "0         0       3    male  22.0      1      0   7.2500        S  Third   \n",
       "1         1       1  female  38.0      1      0  71.2833        C  First   \n",
       "2         1       3  female  26.0      0      0   7.9250        S  Third   \n",
       "3         1       1  female  35.0      1      0  53.1000        S  First   \n",
       "4         0       3    male  35.0      0      0   8.0500        S  Third   \n",
       "\n",
       "     who  adult_male deck  embark_town alive  alone  \n",
       "0    man        True  NaN  Southampton    no  False  \n",
       "1  woman       False    C    Cherbourg   yes  False  \n",
       "2  woman       False  NaN  Southampton   yes   True  \n",
       "3  woman       False    C  Southampton   yes  False  \n",
       "4    man        True  NaN  Southampton    no   True  "
      ],
      "text/html": "<div>\n<style scoped>\n    .dataframe tbody tr th:only-of-type {\n        vertical-align: middle;\n    }\n\n    .dataframe tbody tr th {\n        vertical-align: top;\n    }\n\n    .dataframe thead th {\n        text-align: right;\n    }\n</style>\n<table border=\"1\" class=\"dataframe\">\n  <thead>\n    <tr style=\"text-align: right;\">\n      <th></th>\n      <th>survived</th>\n      <th>pclass</th>\n      <th>sex</th>\n      <th>age</th>\n      <th>sibsp</th>\n      <th>parch</th>\n      <th>fare</th>\n      <th>embarked</th>\n      <th>class</th>\n      <th>who</th>\n      <th>adult_male</th>\n      <th>deck</th>\n      <th>embark_town</th>\n      <th>alive</th>\n      <th>alone</th>\n    </tr>\n  </thead>\n  <tbody>\n    <tr>\n      <th>0</th>\n      <td>0</td>\n      <td>3</td>\n      <td>male</td>\n      <td>22.0</td>\n      <td>1</td>\n      <td>0</td>\n      <td>7.2500</td>\n      <td>S</td>\n      <td>Third</td>\n      <td>man</td>\n      <td>True</td>\n      <td>NaN</td>\n      <td>Southampton</td>\n      <td>no</td>\n      <td>False</td>\n    </tr>\n    <tr>\n      <th>1</th>\n      <td>1</td>\n      <td>1</td>\n      <td>female</td>\n      <td>38.0</td>\n      <td>1</td>\n      <td>0</td>\n      <td>71.2833</td>\n      <td>C</td>\n      <td>First</td>\n      <td>woman</td>\n      <td>False</td>\n      <td>C</td>\n      <td>Cherbourg</td>\n      <td>yes</td>\n      <td>False</td>\n    </tr>\n    <tr>\n      <th>2</th>\n      <td>1</td>\n      <td>3</td>\n      <td>female</td>\n      <td>26.0</td>\n      <td>0</td>\n      <td>0</td>\n      <td>7.9250</td>\n      <td>S</td>\n      <td>Third</td>\n      <td>woman</td>\n      <td>False</td>\n      <td>NaN</td>\n      <td>Southampton</td>\n      <td>yes</td>\n      <td>True</td>\n    </tr>\n    <tr>\n      <th>3</th>\n      <td>1</td>\n      <td>1</td>\n      <td>female</td>\n      <td>35.0</td>\n      <td>1</td>\n      <td>0</td>\n      <td>53.1000</td>\n      <td>S</td>\n      <td>First</td>\n      <td>woman</td>\n      <td>False</td>\n      <td>C</td>\n      <td>Southampton</td>\n      <td>yes</td>\n      <td>False</td>\n    </tr>\n    <tr>\n      <th>4</th>\n      <td>0</td>\n      <td>3</td>\n      <td>male</td>\n      <td>35.0</td>\n      <td>0</td>\n      <td>0</td>\n      <td>8.0500</td>\n      <td>S</td>\n      <td>Third</td>\n      <td>man</td>\n      <td>True</td>\n      <td>NaN</td>\n      <td>Southampton</td>\n      <td>no</td>\n      <td>True</td>\n    </tr>\n  </tbody>\n</table>\n</div>"
     },
     "metadata": {},
     "execution_count": 198
    }
   ],
   "source": [
    "df = pd.read_csv(r'C:\\labs\\src\\datasets\\seaborn-data\\titanic.csv')\n",
    "df.head()"
   ]
  },
  {
   "cell_type": "code",
   "execution_count": null,
   "metadata": {},
   "outputs": [],
   "source": [
    "df.shape, df.info(), df.describe()"
   ]
  },
  {
   "cell_type": "code",
   "execution_count": 199,
   "metadata": {},
   "outputs": [
    {
     "output_type": "execute_result",
     "data": {
      "text/plain": [
       "0    549\n",
       "1    342\n",
       "Name: survived, dtype: int64"
      ]
     },
     "metadata": {},
     "execution_count": 199
    }
   ],
   "source": [
    "df['survived'].value_counts()"
   ]
  },
  {
   "cell_type": "code",
   "execution_count": 200,
   "metadata": {},
   "outputs": [],
   "source": [
    "df['family_size'] = df['sibsp'] + df['parch'] # sibsp : 형재 혹은 부부의 수 / parch : 부모 혹은 자녀의 수"
   ]
  },
  {
   "cell_type": "code",
   "execution_count": 201,
   "metadata": {},
   "outputs": [
    {
     "output_type": "execute_result",
     "data": {
      "text/plain": [
       "   survived  pclass     sex   age embarked    who deck  alone  family_size\n",
       "0         0       3    male  22.0        S    man  NaN  False            1\n",
       "1         1       1  female  38.0        C  woman    C  False            1\n",
       "2         1       3  female  26.0        S  woman  NaN   True            0\n",
       "3         1       1  female  35.0        S  woman    C  False            1\n",
       "4         0       3    male  35.0        S    man  NaN   True            0"
      ],
      "text/html": "<div>\n<style scoped>\n    .dataframe tbody tr th:only-of-type {\n        vertical-align: middle;\n    }\n\n    .dataframe tbody tr th {\n        vertical-align: top;\n    }\n\n    .dataframe thead th {\n        text-align: right;\n    }\n</style>\n<table border=\"1\" class=\"dataframe\">\n  <thead>\n    <tr style=\"text-align: right;\">\n      <th></th>\n      <th>survived</th>\n      <th>pclass</th>\n      <th>sex</th>\n      <th>age</th>\n      <th>embarked</th>\n      <th>who</th>\n      <th>deck</th>\n      <th>alone</th>\n      <th>family_size</th>\n    </tr>\n  </thead>\n  <tbody>\n    <tr>\n      <th>0</th>\n      <td>0</td>\n      <td>3</td>\n      <td>male</td>\n      <td>22.0</td>\n      <td>S</td>\n      <td>man</td>\n      <td>NaN</td>\n      <td>False</td>\n      <td>1</td>\n    </tr>\n    <tr>\n      <th>1</th>\n      <td>1</td>\n      <td>1</td>\n      <td>female</td>\n      <td>38.0</td>\n      <td>C</td>\n      <td>woman</td>\n      <td>C</td>\n      <td>False</td>\n      <td>1</td>\n    </tr>\n    <tr>\n      <th>2</th>\n      <td>1</td>\n      <td>3</td>\n      <td>female</td>\n      <td>26.0</td>\n      <td>S</td>\n      <td>woman</td>\n      <td>NaN</td>\n      <td>True</td>\n      <td>0</td>\n    </tr>\n    <tr>\n      <th>3</th>\n      <td>1</td>\n      <td>1</td>\n      <td>female</td>\n      <td>35.0</td>\n      <td>S</td>\n      <td>woman</td>\n      <td>C</td>\n      <td>False</td>\n      <td>1</td>\n    </tr>\n    <tr>\n      <th>4</th>\n      <td>0</td>\n      <td>3</td>\n      <td>male</td>\n      <td>35.0</td>\n      <td>S</td>\n      <td>man</td>\n      <td>NaN</td>\n      <td>True</td>\n      <td>0</td>\n    </tr>\n  </tbody>\n</table>\n</div>"
     },
     "metadata": {},
     "execution_count": 201
    }
   ],
   "source": [
    "df1 = df.drop(['sibsp','parch','fare','class','adult_male','embark_town','alive'], axis=1, inplace=False)\n",
    "df1.head()"
   ]
  },
  {
   "cell_type": "code",
   "execution_count": 202,
   "metadata": {},
   "outputs": [
    {
     "output_type": "execute_result",
     "data": {
      "text/plain": [
       "survived       0.000000\n",
       "pclass         0.000000\n",
       "sex            0.000000\n",
       "age            0.198653\n",
       "embarked       0.002245\n",
       "who            0.000000\n",
       "deck           0.772166\n",
       "alone          0.000000\n",
       "family_size    0.000000\n",
       "dtype: float64"
      ]
     },
     "metadata": {},
     "execution_count": 202
    }
   ],
   "source": [
    "df1.isnull().sum()/len(df)"
   ]
  },
  {
   "cell_type": "code",
   "execution_count": null,
   "metadata": {},
   "outputs": [],
   "source": [
    "fig = plt.figure(figsize=(6,3))\n",
    "ax = fig.add_subplot(111)\n",
    "sns.heatmap(df1.isnull())\n",
    "plt.show()"
   ]
  },
  {
   "cell_type": "code",
   "execution_count": 203,
   "metadata": {},
   "outputs": [
    {
     "output_type": "execute_result",
     "data": {
      "text/plain": [
       "          survived  pclass       age  alone  family_size  survived_rate\n",
       "deck                                                                   \n",
       "A                7      15    538.00     12            4       0.466667\n",
       "B               35      47   1573.00     22           44       0.744681\n",
       "C               35      59   1840.42     22           66       0.593220\n",
       "D               25      37   1210.00     13           24       0.757576\n",
       "E               24      42   1143.50     17           20       0.750000\n",
       "F                8      31    219.50      7           14       0.615385\n",
       "G                2      12     59.00      0            7       0.500000\n",
       "Nan_data       206    1814  14621.75    444          627       0.299419"
      ],
      "text/html": "<div>\n<style scoped>\n    .dataframe tbody tr th:only-of-type {\n        vertical-align: middle;\n    }\n\n    .dataframe tbody tr th {\n        vertical-align: top;\n    }\n\n    .dataframe thead th {\n        text-align: right;\n    }\n</style>\n<table border=\"1\" class=\"dataframe\">\n  <thead>\n    <tr style=\"text-align: right;\">\n      <th></th>\n      <th>survived</th>\n      <th>pclass</th>\n      <th>age</th>\n      <th>alone</th>\n      <th>family_size</th>\n      <th>survived_rate</th>\n    </tr>\n    <tr>\n      <th>deck</th>\n      <th></th>\n      <th></th>\n      <th></th>\n      <th></th>\n      <th></th>\n      <th></th>\n    </tr>\n  </thead>\n  <tbody>\n    <tr>\n      <th>A</th>\n      <td>7</td>\n      <td>15</td>\n      <td>538.00</td>\n      <td>12</td>\n      <td>4</td>\n      <td>0.466667</td>\n    </tr>\n    <tr>\n      <th>B</th>\n      <td>35</td>\n      <td>47</td>\n      <td>1573.00</td>\n      <td>22</td>\n      <td>44</td>\n      <td>0.744681</td>\n    </tr>\n    <tr>\n      <th>C</th>\n      <td>35</td>\n      <td>59</td>\n      <td>1840.42</td>\n      <td>22</td>\n      <td>66</td>\n      <td>0.593220</td>\n    </tr>\n    <tr>\n      <th>D</th>\n      <td>25</td>\n      <td>37</td>\n      <td>1210.00</td>\n      <td>13</td>\n      <td>24</td>\n      <td>0.757576</td>\n    </tr>\n    <tr>\n      <th>E</th>\n      <td>24</td>\n      <td>42</td>\n      <td>1143.50</td>\n      <td>17</td>\n      <td>20</td>\n      <td>0.750000</td>\n    </tr>\n    <tr>\n      <th>F</th>\n      <td>8</td>\n      <td>31</td>\n      <td>219.50</td>\n      <td>7</td>\n      <td>14</td>\n      <td>0.615385</td>\n    </tr>\n    <tr>\n      <th>G</th>\n      <td>2</td>\n      <td>12</td>\n      <td>59.00</td>\n      <td>0</td>\n      <td>7</td>\n      <td>0.500000</td>\n    </tr>\n    <tr>\n      <th>Nan_data</th>\n      <td>206</td>\n      <td>1814</td>\n      <td>14621.75</td>\n      <td>444</td>\n      <td>627</td>\n      <td>0.299419</td>\n    </tr>\n  </tbody>\n</table>\n</div>"
     },
     "metadata": {},
     "execution_count": 203
    }
   ],
   "source": [
    "df1['deck'].fillna('Nan_data', inplace=True)\n",
    "df1\n",
    "groupby_count = df1.groupby(df1['deck']).count()\n",
    "groupby_sum = df1.groupby(df1['deck']).sum()\n",
    "groupby_sum['survived_rate'] = groupby_sum['survived'] / groupby_count['survived']\n",
    "groupby_sum\n",
    "# when deck is not missing, the survived rate is much higher than when deck data is missing "
   ]
  },
  {
   "cell_type": "code",
   "execution_count": null,
   "metadata": {},
   "outputs": [],
   "source": [
    "bins = [5*i for i in range(20)]\n",
    "kws = {'edgecolor':'black', 'linewidth':'2'}\n",
    "\n",
    "sns.distplot(df1[df1['sex']=='male']['age'], color='blue', bins=bins, hist_kws=kws, label='male')\n",
    "sns.distplot(df1[df1['sex']=='female']['age'], color='red', bins=bins, hist_kws=kws, label='female')\n",
    "plt.legend()\n",
    "plt.show()"
   ]
  },
  {
   "cell_type": "code",
   "execution_count": 204,
   "metadata": {},
   "outputs": [
    {
     "output_type": "execute_result",
     "data": {
      "text/plain": [
       "survived       0.0\n",
       "pclass         0.0\n",
       "sex            0.0\n",
       "age            0.0\n",
       "embarked       0.0\n",
       "who            0.0\n",
       "deck           0.0\n",
       "alone          0.0\n",
       "family_size    0.0\n",
       "dtype: float64"
      ]
     },
     "metadata": {},
     "execution_count": 204
    }
   ],
   "source": [
    "# age,embarked의 missing data에 중앙 값, 최빈 값을 추가\n",
    "\n",
    "df1['age'] = df1['age'].fillna(df1['age'].median()) \n",
    "df1['embarked'] = df1['embarked'].fillna(df1['embarked'].mode()[0]) \n",
    "df1.isnull().sum()/len(df1)"
   ]
  },
  {
   "cell_type": "code",
   "execution_count": null,
   "metadata": {},
   "outputs": [],
   "source": []
  },
  {
   "cell_type": "code",
   "execution_count": null,
   "metadata": {},
   "outputs": [],
   "source": [
    "def plot_row(src, ref, col_list):\n",
    "    for index, value in enumerate(col_list):\n",
    "        plt.subplot(1, len(col_list), index+1)\n",
    "        sns.countplot(x=value, hue=ref, data=src)\n",
    "        plt.title(value)\n",
    "    plt.tight_layout()\n",
    "    plt.show()"
   ]
  },
  {
   "cell_type": "code",
   "execution_count": null,
   "metadata": {},
   "outputs": [],
   "source": [
    "plt.figure(figsize=(15,3))\n",
    "plot_row(df1, 'survived', ['pclass', 'sex', 'age', 'embarked'])"
   ]
  },
  {
   "cell_type": "code",
   "execution_count": null,
   "metadata": {},
   "outputs": [],
   "source": [
    "plt.figure(figsize=(15,3))\n",
    "plot_row(df1, 'survived', ['who', 'alone', 'family_size', 'deck'])"
   ]
  },
  {
   "cell_type": "code",
   "execution_count": 205,
   "metadata": {},
   "outputs": [
    {
     "output_type": "execute_result",
     "data": {
      "text/plain": [
       "0    577\n",
       "1    314\n",
       "Name: sex, dtype: int64"
      ]
     },
     "metadata": {},
     "execution_count": 205
    }
   ],
   "source": [
    "# 범주형 처리1 \n",
    "labels, unique = pd.factorize(df1['sex'])\n",
    "df1['sex'] = labels \n",
    "df1['sex'].value_counts()"
   ]
  },
  {
   "cell_type": "code",
   "execution_count": 206,
   "metadata": {},
   "outputs": [
    {
     "output_type": "execute_result",
     "data": {
      "text/plain": [
       "0    646\n",
       "1    168\n",
       "2     77\n",
       "Name: embarked, dtype: int64"
      ]
     },
     "metadata": {},
     "execution_count": 206
    }
   ],
   "source": [
    "# 범주형 처리2 \n",
    "labels, unique = pd.factorize(df1['embarked'])\n",
    "df1['embarked'] = labels\n",
    "df1['embarked'].value_counts()"
   ]
  },
  {
   "cell_type": "code",
   "execution_count": 207,
   "metadata": {},
   "outputs": [
    {
     "output_type": "execute_result",
     "data": {
      "text/plain": [
       "0    537\n",
       "1    271\n",
       "2     83\n",
       "Name: who, dtype: int64"
      ]
     },
     "metadata": {},
     "execution_count": 207
    }
   ],
   "source": [
    "# 범주형 처리3\n",
    "labels, unique = pd.factorize(df1['who'])\n",
    "df1['who'] = labels\n",
    "df1['who'].value_counts()"
   ]
  },
  {
   "cell_type": "code",
   "execution_count": 208,
   "metadata": {},
   "outputs": [
    {
     "output_type": "execute_result",
     "data": {
      "text/plain": [
       "1    537\n",
       "0    354\n",
       "Name: alone, dtype: int64"
      ]
     },
     "metadata": {},
     "execution_count": 208
    }
   ],
   "source": [
    "# 범주형 처리4\n",
    "labels, unique = pd.factorize(df1['alone'])\n",
    "df1['alone'] = labels\n",
    "df1['alone'].value_counts()"
   ]
  },
  {
   "cell_type": "code",
   "execution_count": null,
   "metadata": {},
   "outputs": [],
   "source": [
    "# data 타입 변경\n",
    "df1['age'] = df1['age'].astype(int)\n",
    "df1.drop(['deck'], axis=1, inplace=True)"
   ]
  },
  {
   "cell_type": "code",
   "execution_count": 210,
   "metadata": {},
   "outputs": [],
   "source": [
    "# 학습\n",
    "from sklearn.model_selection import train_test_split \n",
    "\n",
    "y_df = df1['survived']\n",
    "x_df = df1.drop(['survived'], axis=1)\n",
    "\n",
    "x_train, x_test, y_train, y_test = train_test_split(x_df, y_df, test_size=0.25, random_state=5)"
   ]
  },
  {
   "cell_type": "code",
   "execution_count": 224,
   "metadata": {},
   "outputs": [
    {
     "output_type": "execute_result",
     "data": {
      "text/plain": [
       "array([0, 0, 0, 0, 0], dtype=int64)"
      ]
     },
     "metadata": {},
     "execution_count": 224
    }
   ],
   "source": [
    "# 호지스틱 회귀\n",
    "from sklearn.linear_model import LogisticRegression \n",
    "lr = LogisticRegression(random_state=15)\n",
    "lr.fit(x_train, y_train)\n",
    "lr_y_pred = lr.predict(x_test)\n",
    "lr_y_pred[:5]"
   ]
  },
  {
   "cell_type": "code",
   "execution_count": 212,
   "metadata": {},
   "outputs": [
    {
     "output_type": "stream",
     "name": "stdout",
     "text": [
      "0.8430493273542601\n0.8430493273542601\n"
     ]
    }
   ],
   "source": [
    "# 평가 \n",
    "from sklearn.metrics import accuracy_score\n",
    "print(accuracy_score(y_test, lr_y_pred))\n",
    "print(accuracy_score(lr_y_pred, y_test))"
   ]
  },
  {
   "cell_type": "code",
   "execution_count": 213,
   "metadata": {},
   "outputs": [
    {
     "output_type": "execute_result",
     "data": {
      "text/plain": [
       "0.8430493273542601"
      ]
     },
     "metadata": {},
     "execution_count": 213
    }
   ],
   "source": [
    "lr.score(x_test, y_test)"
   ]
  },
  {
   "cell_type": "code",
   "execution_count": 214,
   "metadata": {},
   "outputs": [
    {
     "output_type": "stream",
     "name": "stdout",
     "text": [
      "테스트 셋 관측 수 :  223\n오분류 관측 수 :  35\n"
     ]
    }
   ],
   "source": [
    "print('테스트 셋 관측 수 : ', y_test.shape[0])\n",
    "print('오분류 관측 수 : ', sum(lr.predict(x_test) != y_test))"
   ]
  },
  {
   "cell_type": "code",
   "execution_count": 215,
   "metadata": {},
   "outputs": [
    {
     "output_type": "execute_result",
     "data": {
      "text/plain": [
       "array([[0.86834406, 0.13165594],\n",
       "       [0.89513474, 0.10486526],\n",
       "       [0.92551434, 0.07448566]])"
      ]
     },
     "metadata": {},
     "execution_count": 215
    }
   ],
   "source": [
    "# 예측 확률 반환\n",
    "lr.predict_proba(x_test)[:3] # more....."
   ]
  },
  {
   "cell_type": "code",
   "execution_count": 216,
   "metadata": {},
   "outputs": [
    {
     "output_type": "stream",
     "name": "stdout",
     "text": [
      "classes: [0 1]\nbeta: [[-1.06173319  1.62013784 -0.01679187  0.25790195  1.13157741 -0.47209086\n  -0.45177897]]\nintercept: [1.72526284]\n"
     ]
    }
   ],
   "source": [
    "# Attributes (속성)\n",
    "print('classes:', lr.classes_)\n",
    "print('beta:', lr.coef_)\n",
    "print('intercept:', lr.intercept_)\n"
   ]
  },
  {
   "cell_type": "code",
   "execution_count": null,
   "metadata": {},
   "outputs": [],
   "source": [
    "# Methods \n",
    "# fit(X,y)\n",
    "# predict(X)\n",
    "# score(X,y) : accuracy 값 반환 \n",
    "# decision_function(X) : 클래스 레비을 예측의 확신 점수 / 각 클래스의 분류 초평면으로부터 떨어진 거리 \n",
    "# predict_proba(X)"
   ]
  },
  {
   "cell_type": "code",
   "execution_count": null,
   "metadata": {},
   "outputs": [],
   "source": [
    "lr.decision_function(x_test)"
   ]
  },
  {
   "cell_type": "code",
   "execution_count": 223,
   "metadata": {},
   "outputs": [
    {
     "output_type": "execute_result",
     "data": {
      "text/plain": [
       "   survived  pclass  sex  age  embarked  who  alone  family_size\n",
       "0         0       3    0   22         0    0      0            1\n",
       "1         1       1    1   38         1    1      0            1\n",
       "2         1       3    1   26         0    1      1            0\n",
       "3         1       1    1   35         0    1      0            1\n",
       "4         0       3    0   35         0    0      1            0"
      ],
      "text/html": "<div>\n<style scoped>\n    .dataframe tbody tr th:only-of-type {\n        vertical-align: middle;\n    }\n\n    .dataframe tbody tr th {\n        vertical-align: top;\n    }\n\n    .dataframe thead th {\n        text-align: right;\n    }\n</style>\n<table border=\"1\" class=\"dataframe\">\n  <thead>\n    <tr style=\"text-align: right;\">\n      <th></th>\n      <th>survived</th>\n      <th>pclass</th>\n      <th>sex</th>\n      <th>age</th>\n      <th>embarked</th>\n      <th>who</th>\n      <th>alone</th>\n      <th>family_size</th>\n    </tr>\n  </thead>\n  <tbody>\n    <tr>\n      <th>0</th>\n      <td>0</td>\n      <td>3</td>\n      <td>0</td>\n      <td>22</td>\n      <td>0</td>\n      <td>0</td>\n      <td>0</td>\n      <td>1</td>\n    </tr>\n    <tr>\n      <th>1</th>\n      <td>1</td>\n      <td>1</td>\n      <td>1</td>\n      <td>38</td>\n      <td>1</td>\n      <td>1</td>\n      <td>0</td>\n      <td>1</td>\n    </tr>\n    <tr>\n      <th>2</th>\n      <td>1</td>\n      <td>3</td>\n      <td>1</td>\n      <td>26</td>\n      <td>0</td>\n      <td>1</td>\n      <td>1</td>\n      <td>0</td>\n    </tr>\n    <tr>\n      <th>3</th>\n      <td>1</td>\n      <td>1</td>\n      <td>1</td>\n      <td>35</td>\n      <td>0</td>\n      <td>1</td>\n      <td>0</td>\n      <td>1</td>\n    </tr>\n    <tr>\n      <th>4</th>\n      <td>0</td>\n      <td>3</td>\n      <td>0</td>\n      <td>35</td>\n      <td>0</td>\n      <td>0</td>\n      <td>1</td>\n      <td>0</td>\n    </tr>\n  </tbody>\n</table>\n</div>"
     },
     "metadata": {},
     "execution_count": 223
    }
   ],
   "source": [
    "df3 = df1.copy()\n",
    "df3.head()"
   ]
  },
  {
   "source": [
    "Label Encoding"
   ],
   "cell_type": "markdown",
   "metadata": {}
  },
  {
   "cell_type": "code",
   "execution_count": 222,
   "metadata": {},
   "outputs": [
    {
     "output_type": "execute_result",
     "data": {
      "text/plain": [
       "array([0, 1, 1, 1, 0], dtype=int64)"
      ]
     },
     "metadata": {},
     "execution_count": 222
    }
   ],
   "source": [
    "# label Encoding \n",
    "from sklearn.preprocessing import LabelEncoder, OneHotEncoder \n",
    "\n",
    "lb_encoder = LabelEncoder()\n",
    "lb_encoder.fit(df3['sex'])\n",
    "labels = lb_encoder.transform(df3['sex'])\n",
    "labels[:5]"
   ]
  },
  {
   "cell_type": "code",
   "execution_count": 219,
   "metadata": {},
   "outputs": [
    {
     "output_type": "execute_result",
     "data": {
      "text/plain": [
       "array([0, 1], dtype=int64)"
      ]
     },
     "metadata": {},
     "execution_count": 219
    }
   ],
   "source": [
    "lb_encoder.classes_"
   ]
  },
  {
   "source": [
    "One-Hot Encoding"
   ],
   "cell_type": "markdown",
   "metadata": {}
  },
  {
   "cell_type": "code",
   "execution_count": 220,
   "metadata": {},
   "outputs": [
    {
     "output_type": "execute_result",
     "data": {
      "text/plain": [
       "array([[0],\n",
       "       [1],\n",
       "       [1],\n",
       "       [1],\n",
       "       [0]], dtype=int64)"
      ]
     },
     "metadata": {},
     "execution_count": 220
    }
   ],
   "source": [
    "df4 = df.copy()\n",
    "# 2차원 변환\n",
    "labels = labels.reshape(-1,1)\n",
    "labels[:5]"
   ]
  },
  {
   "cell_type": "code",
   "execution_count": 221,
   "metadata": {},
   "outputs": [
    {
     "output_type": "execute_result",
     "data": {
      "text/plain": [
       "   survived  pclass  sex  age  embarked  who  alone  family_size  0  1\n",
       "0         0       3    0   22         0    0      0            1  1  0\n",
       "1         1       1    1   38         1    1      0            1  0  1\n",
       "2         1       3    1   26         0    1      1            0  0  1\n",
       "3         1       1    1   35         0    1      0            1  0  1\n",
       "4         0       3    0   35         0    0      1            0  1  0"
      ],
      "text/html": "<div>\n<style scoped>\n    .dataframe tbody tr th:only-of-type {\n        vertical-align: middle;\n    }\n\n    .dataframe tbody tr th {\n        vertical-align: top;\n    }\n\n    .dataframe thead th {\n        text-align: right;\n    }\n</style>\n<table border=\"1\" class=\"dataframe\">\n  <thead>\n    <tr style=\"text-align: right;\">\n      <th></th>\n      <th>survived</th>\n      <th>pclass</th>\n      <th>sex</th>\n      <th>age</th>\n      <th>embarked</th>\n      <th>who</th>\n      <th>alone</th>\n      <th>family_size</th>\n      <th>0</th>\n      <th>1</th>\n    </tr>\n  </thead>\n  <tbody>\n    <tr>\n      <th>0</th>\n      <td>0</td>\n      <td>3</td>\n      <td>0</td>\n      <td>22</td>\n      <td>0</td>\n      <td>0</td>\n      <td>0</td>\n      <td>1</td>\n      <td>1</td>\n      <td>0</td>\n    </tr>\n    <tr>\n      <th>1</th>\n      <td>1</td>\n      <td>1</td>\n      <td>1</td>\n      <td>38</td>\n      <td>1</td>\n      <td>1</td>\n      <td>0</td>\n      <td>1</td>\n      <td>0</td>\n      <td>1</td>\n    </tr>\n    <tr>\n      <th>2</th>\n      <td>1</td>\n      <td>3</td>\n      <td>1</td>\n      <td>26</td>\n      <td>0</td>\n      <td>1</td>\n      <td>1</td>\n      <td>0</td>\n      <td>0</td>\n      <td>1</td>\n    </tr>\n    <tr>\n      <th>3</th>\n      <td>1</td>\n      <td>1</td>\n      <td>1</td>\n      <td>35</td>\n      <td>0</td>\n      <td>1</td>\n      <td>0</td>\n      <td>1</td>\n      <td>0</td>\n      <td>1</td>\n    </tr>\n    <tr>\n      <th>4</th>\n      <td>0</td>\n      <td>3</td>\n      <td>0</td>\n      <td>35</td>\n      <td>0</td>\n      <td>0</td>\n      <td>1</td>\n      <td>0</td>\n      <td>1</td>\n      <td>0</td>\n    </tr>\n  </tbody>\n</table>\n</div>"
     },
     "metadata": {},
     "execution_count": 221
    }
   ],
   "source": [
    "oh_encoder = OneHotEncoder()\n",
    "oh_encoder.fit(labels)\n",
    "oh_labels = oh_encoder.transform(labels)\n",
    "\n",
    "df5 = pd.DataFrame(oh_labels.toarray(), columns=lb_encoder.classes_, dtype=int) \n",
    "\n",
    "df6 = pd.concat([df3, df5], axis=1)\n",
    "df6.head()"
   ]
  }
 ]
}
