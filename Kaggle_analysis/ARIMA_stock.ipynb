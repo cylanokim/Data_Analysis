{
 "cells": [
  {
   "cell_type": "code",
   "execution_count": 6,
   "metadata": {},
   "outputs": [],
   "source": [
    "import pandas as pd\n",
    "import numpy as np\n",
    "\n",
    "import matplotlib.pyplot as plt\n",
    "import seaborn as sns\n",
    "sns.set_style('whitegrid')\n",
    "plt.style.use(\"fivethirtyeight\")\n",
    "%matplotlib inline\n",
    "\n",
    "# For reading stock data from yahoo\n",
    "from pandas_datareader.data import DataReader\n",
    "import yfinance as yf\n",
    "\n",
    "# For time stamps\n",
    "from datetime import datetime"
   ]
  },
  {
   "cell_type": "code",
   "execution_count": 7,
   "metadata": {},
   "outputs": [],
   "source": [
    "from statsmodels.tsa.stattools import adfuller\n",
    "from statsmodels.tsa.seasonal import seasonal_decompose\n",
    "from statsmodels.tsa.arima_model import ARIMA\n",
    "from pmdarima.arima import auto_arima\n",
    "\n",
    "from sklearn.metrics import mean_squared_error, mean_absolute_error\n",
    "import math"
   ]
  },
  {
   "cell_type": "code",
   "execution_count": 8,
   "metadata": {},
   "outputs": [],
   "source": [
    "import pandas as pd\n",
    "import numpy as np\n",
    "\n",
    "import matplotlib.pyplot as plt\n",
    "import seaborn as sns\n",
    "sns.set_style('whitegrid')\n",
    "plt.style.use(\"fivethirtyeight\")\n",
    "%matplotlib inline\n",
    "\n",
    "# For reading stock data from yahoo\n",
    "from pandas_datareader.data import DataReader\n",
    "from pandas_datareader import data as pdr\n",
    "import yfinance as yf\n",
    "\n",
    "# For time stamps\n",
    "from datetime import datetime"
   ]
  },
  {
   "cell_type": "code",
   "execution_count": 9,
   "metadata": {},
   "outputs": [
    {
     "data": {
      "text/html": [
       "<div>\n",
       "<style scoped>\n",
       "    .dataframe tbody tr th:only-of-type {\n",
       "        vertical-align: middle;\n",
       "    }\n",
       "\n",
       "    .dataframe tbody tr th {\n",
       "        vertical-align: top;\n",
       "    }\n",
       "\n",
       "    .dataframe thead th {\n",
       "        text-align: right;\n",
       "    }\n",
       "</style>\n",
       "<table border=\"1\" class=\"dataframe\">\n",
       "  <thead>\n",
       "    <tr style=\"text-align: right;\">\n",
       "      <th></th>\n",
       "      <th>date</th>\n",
       "      <th>symbol</th>\n",
       "      <th>open</th>\n",
       "      <th>close</th>\n",
       "      <th>low</th>\n",
       "      <th>high</th>\n",
       "      <th>volume</th>\n",
       "    </tr>\n",
       "    <tr>\n",
       "      <th>Datetime</th>\n",
       "      <th></th>\n",
       "      <th></th>\n",
       "      <th></th>\n",
       "      <th></th>\n",
       "      <th></th>\n",
       "      <th></th>\n",
       "      <th></th>\n",
       "    </tr>\n",
       "  </thead>\n",
       "  <tbody>\n",
       "    <tr>\n",
       "      <th>2016-01-05</th>\n",
       "      <td>2016-01-05</td>\n",
       "      <td>WLTW</td>\n",
       "      <td>123.430000</td>\n",
       "      <td>125.839996</td>\n",
       "      <td>122.309998</td>\n",
       "      <td>126.250000</td>\n",
       "      <td>2163600.0</td>\n",
       "    </tr>\n",
       "    <tr>\n",
       "      <th>2016-01-06</th>\n",
       "      <td>2016-01-06</td>\n",
       "      <td>WLTW</td>\n",
       "      <td>125.239998</td>\n",
       "      <td>119.980003</td>\n",
       "      <td>119.940002</td>\n",
       "      <td>125.540001</td>\n",
       "      <td>2386400.0</td>\n",
       "    </tr>\n",
       "    <tr>\n",
       "      <th>2016-01-07</th>\n",
       "      <td>2016-01-07</td>\n",
       "      <td>WLTW</td>\n",
       "      <td>116.379997</td>\n",
       "      <td>114.949997</td>\n",
       "      <td>114.930000</td>\n",
       "      <td>119.739998</td>\n",
       "      <td>2489500.0</td>\n",
       "    </tr>\n",
       "    <tr>\n",
       "      <th>2016-01-08</th>\n",
       "      <td>2016-01-08</td>\n",
       "      <td>WLTW</td>\n",
       "      <td>115.480003</td>\n",
       "      <td>116.620003</td>\n",
       "      <td>113.500000</td>\n",
       "      <td>117.440002</td>\n",
       "      <td>2006300.0</td>\n",
       "    </tr>\n",
       "    <tr>\n",
       "      <th>2016-01-11</th>\n",
       "      <td>2016-01-11</td>\n",
       "      <td>WLTW</td>\n",
       "      <td>117.010002</td>\n",
       "      <td>114.970001</td>\n",
       "      <td>114.089996</td>\n",
       "      <td>117.330002</td>\n",
       "      <td>1408600.0</td>\n",
       "    </tr>\n",
       "    <tr>\n",
       "      <th>...</th>\n",
       "      <td>...</td>\n",
       "      <td>...</td>\n",
       "      <td>...</td>\n",
       "      <td>...</td>\n",
       "      <td>...</td>\n",
       "      <td>...</td>\n",
       "      <td>...</td>\n",
       "    </tr>\n",
       "    <tr>\n",
       "      <th>2016-12-30</th>\n",
       "      <td>2016-12-30</td>\n",
       "      <td>ZBH</td>\n",
       "      <td>103.309998</td>\n",
       "      <td>103.199997</td>\n",
       "      <td>102.849998</td>\n",
       "      <td>103.930000</td>\n",
       "      <td>973800.0</td>\n",
       "    </tr>\n",
       "    <tr>\n",
       "      <th>2016-12-30</th>\n",
       "      <td>2016-12-30</td>\n",
       "      <td>ZION</td>\n",
       "      <td>43.070000</td>\n",
       "      <td>43.040001</td>\n",
       "      <td>42.689999</td>\n",
       "      <td>43.310001</td>\n",
       "      <td>1938100.0</td>\n",
       "    </tr>\n",
       "    <tr>\n",
       "      <th>2016-12-30</th>\n",
       "      <td>2016-12-30</td>\n",
       "      <td>ZTS</td>\n",
       "      <td>53.639999</td>\n",
       "      <td>53.529999</td>\n",
       "      <td>53.270000</td>\n",
       "      <td>53.740002</td>\n",
       "      <td>1701200.0</td>\n",
       "    </tr>\n",
       "    <tr>\n",
       "      <th>2016-12-30</th>\n",
       "      <td>2016-12-30</td>\n",
       "      <td>AIV</td>\n",
       "      <td>44.730000</td>\n",
       "      <td>45.450001</td>\n",
       "      <td>44.410000</td>\n",
       "      <td>45.590000</td>\n",
       "      <td>1380900.0</td>\n",
       "    </tr>\n",
       "    <tr>\n",
       "      <th>2016-12-30</th>\n",
       "      <td>2016-12-30</td>\n",
       "      <td>FTV</td>\n",
       "      <td>54.200001</td>\n",
       "      <td>53.630001</td>\n",
       "      <td>53.389999</td>\n",
       "      <td>54.480000</td>\n",
       "      <td>705100.0</td>\n",
       "    </tr>\n",
       "  </tbody>\n",
       "</table>\n",
       "<p>851264 rows × 7 columns</p>\n",
       "</div>"
      ],
      "text/plain": [
       "                  date symbol        open       close         low        high  \\\n",
       "Datetime                                                                        \n",
       "2016-01-05  2016-01-05   WLTW  123.430000  125.839996  122.309998  126.250000   \n",
       "2016-01-06  2016-01-06   WLTW  125.239998  119.980003  119.940002  125.540001   \n",
       "2016-01-07  2016-01-07   WLTW  116.379997  114.949997  114.930000  119.739998   \n",
       "2016-01-08  2016-01-08   WLTW  115.480003  116.620003  113.500000  117.440002   \n",
       "2016-01-11  2016-01-11   WLTW  117.010002  114.970001  114.089996  117.330002   \n",
       "...                ...    ...         ...         ...         ...         ...   \n",
       "2016-12-30  2016-12-30    ZBH  103.309998  103.199997  102.849998  103.930000   \n",
       "2016-12-30  2016-12-30   ZION   43.070000   43.040001   42.689999   43.310001   \n",
       "2016-12-30  2016-12-30    ZTS   53.639999   53.529999   53.270000   53.740002   \n",
       "2016-12-30  2016-12-30    AIV   44.730000   45.450001   44.410000   45.590000   \n",
       "2016-12-30  2016-12-30    FTV   54.200001   53.630001   53.389999   54.480000   \n",
       "\n",
       "               volume  \n",
       "Datetime               \n",
       "2016-01-05  2163600.0  \n",
       "2016-01-06  2386400.0  \n",
       "2016-01-07  2489500.0  \n",
       "2016-01-08  2006300.0  \n",
       "2016-01-11  1408600.0  \n",
       "...               ...  \n",
       "2016-12-30   973800.0  \n",
       "2016-12-30  1938100.0  \n",
       "2016-12-30  1701200.0  \n",
       "2016-12-30  1380900.0  \n",
       "2016-12-30   705100.0  \n",
       "\n",
       "[851264 rows x 7 columns]"
      ]
     },
     "execution_count": 9,
     "metadata": {},
     "output_type": "execute_result"
    }
   ],
   "source": [
    "data = pd.read_csv('E:/Data_warehouse/New York Stock Exchange/prices-split-adjusted.csv', delimiter=',', encoding='utf-8')\n",
    "data['Datetime'] = pd.to_datetime(data['date'])\n",
    "data.set_index('Datetime', inplace=True)\n",
    "data"
   ]
  },
  {
   "cell_type": "markdown",
   "metadata": {},
   "source": [
    "What is ARIMA?\n",
    "Autoregressive Integrated Moving Average (ARIMA) Model converts non-stationary data to stationary data before working on it. It is one of the most popular models to predict linear time series data.\n",
    "\n",
    "ARIMA model has been used extensively in the field of finance and economics as it is known to be robust, efficient and has a strong potential for short-term share market prediction."
   ]
  },
  {
   "cell_type": "code",
   "execution_count": 10,
   "metadata": {},
   "outputs": [
    {
     "data": {
      "text/plain": [
       "KSU     1762\n",
       "NOC     1762\n",
       "ORCL    1762\n",
       "OMC     1762\n",
       "OKE     1762\n",
       "        ... \n",
       "KHC      378\n",
       "HPE      304\n",
       "CSRA     284\n",
       "WLTW     251\n",
       "FTV      126\n",
       "Name: symbol, Length: 501, dtype: int64"
      ]
     },
     "execution_count": 10,
     "metadata": {},
     "output_type": "execute_result"
    }
   ],
   "source": [
    "data['symbol'].value_counts()"
   ]
  },
  {
   "cell_type": "code",
   "execution_count": 11,
   "metadata": {},
   "outputs": [
    {
     "data": {
      "image/png": "[encoded data removed]",
      "text/plain": [
       "<Figure size 720x432 with 1 Axes>"
      ]
     },
     "metadata": {
      "needs_background": "light"
     },
     "output_type": "display_data"
    }
   ],
   "source": [
    "plt.figure(figsize=(10,6))\n",
    "plt.plot(data[data['symbol']=='GOOG']['close'])\n",
    "\n",
    "plt.grid(True)\n",
    "plt.show()"
   ]
  },
  {
   "cell_type": "code",
   "execution_count": 12,
   "metadata": {},
   "outputs": [
    {
     "name": "stdout",
     "output_type": "stream",
     "text": [
      "<class 'pandas.core.frame.DataFrame'>\n",
      "DatetimeIndex: 1762 entries, 2010-01-04 to 2016-12-30\n",
      "Data columns (total 7 columns):\n",
      " #   Column  Non-Null Count  Dtype  \n",
      "---  ------  --------------  -----  \n",
      " 0   date    1762 non-null   object \n",
      " 1   symbol  1762 non-null   object \n",
      " 2   open    1762 non-null   float64\n",
      " 3   close   1762 non-null   float64\n",
      " 4   low     1762 non-null   float64\n",
      " 5   high    1762 non-null   float64\n",
      " 6   volume  1762 non-null   float64\n",
      "dtypes: float64(5), object(2)\n",
      "memory usage: 110.1+ KB\n"
     ]
    }
   ],
   "source": [
    "df_1 = data[data['symbol']=='GOOG']\n",
    "df_1.info()"
   ]
  },
  {
   "cell_type": "code",
   "execution_count": 13,
   "metadata": {},
   "outputs": [
    {
     "data": {
      "text/plain": [
       "<AxesSubplot:ylabel='Density'>"
      ]
     },
     "execution_count": 13,
     "metadata": {},
     "output_type": "execute_result"
    },
    {
     "data": {
      "image/png": "[encoded data removed]",
      "text/plain": [
       "<Figure size 1008x432 with 2 Axes>"
      ]
     },
     "metadata": {
      "needs_background": "light"
     },
     "output_type": "display_data"
    }
   ],
   "source": [
    "fig = plt.figure(figsize=(14,6))\n",
    "ax1 = fig.add_subplot(121)\n",
    "df_1['close'].plot()\n",
    "\n",
    "ax2 = fig.add_subplot(122)\n",
    "df_1['close'].plot(kind='kde')"
   ]
  },
  {
   "cell_type": "code",
   "execution_count": 14,
   "metadata": {},
   "outputs": [],
   "source": [
    "# Also, a given time series is thought consist of three systematic components including level, trend, seasonality, and one non-systematic \n",
    "# component called noise.\n",
    "# Level: the average value in the series.\n",
    "# Trend: The increasing or decreasing value in the series \n",
    "# Seasonality : The repearing short-term cycle in the series \n",
    "\n",
    "# If we fail to reject the null hypothesis, we can say that the series is non-stationary. This means that the series can be linear of difference \n",
    "# stationary. If both mean and standard deviation are flat liness(constant mean and constant variance), the series becomes stationary.\n"
   ]
  },
  {
   "cell_type": "code",
   "execution_count": 15,
   "metadata": {},
   "outputs": [
    {
     "data": {
      "image/png": "[encoded data removed]",
      "text/plain": [
       "<Figure size 432x288 with 1 Axes>"
      ]
     },
     "metadata": {
      "needs_background": "light"
     },
     "output_type": "display_data"
    },
    {
     "name": "stdout",
     "output_type": "stream",
     "text": [
      "Result of dickey fuller test\n",
      "Test Statistics                  -0.166842\n",
      "p-value                           0.942360\n",
      "No. of lags used                  3.000000\n",
      "Number of observations used    1758.000000\n",
      "critical value (1%)              -3.434075\n",
      "critical value (5%)              -2.863185\n",
      "critical value (10%)             -2.567646\n",
      "dtype: float64\n"
     ]
    }
   ],
   "source": [
    "def test_stationarity(timeseries):\n",
    "    rolmean = timeseries.rolling(12).mean()\n",
    "    rolstd = timeseries.rolling(12).std()\n",
    "\n",
    "    # plot rolling statistics \n",
    "    plt.plot(timeseries, color='blue', label='original')\n",
    "    plt.plot(rolmean, color='red', label='Rolling Mean(12)')\n",
    "    plt.plot(rolstd, color='black', label='Rolling Std') \n",
    "    plt.legend(loc='best')\n",
    "    plt.title('Rolling Mean and Standard Deviation')\n",
    "    plt.show(block=False)\n",
    "\n",
    "    print('Result of dickey fuller test')\n",
    "    adft = adfuller(timeseries, autolag='AIC')\n",
    "\n",
    "    output = pd.Series(adft[:4], index=['Test Statistics','p-value','No. of lags used','Number of observations used']) \n",
    "    for key, values in adft[4].items():\n",
    "        output['critical value (%s)'%key] = values\n",
    "    print(output) \n",
    "\n",
    "test_stationarity(df_1['close'])"
   ]
  },
  {
   "cell_type": "code",
   "execution_count": null,
   "metadata": {},
   "outputs": [],
   "source": [
    "# H0 : the series has a unit root  (non-stationary)\n",
    "# H1 : the series has no unit root \n",
    "\n",
    "# p-value is greater than 0.05 so we cannot reject Null hypothesis. Also, the test statistics is greater than the critical values, so the data is \n",
    "# non-stationary. \n",
    "# In order to perform a time series analysis, we may need to separate seasonality and trend from our series. The resultant series will become stationary\n",
    "# through this process. So let us separate trend and seasonality from the time series."
   ]
  },
  {
   "cell_type": "code",
   "execution_count": null,
   "metadata": {},
   "outputs": [],
   "source": [
    "df_close = data['close']\n",
    "df_close\n",
    "plt.plot(df_close)"
   ]
  },
  {
   "cell_type": "code",
   "execution_count": null,
   "metadata": {},
   "outputs": [],
   "source": [
    "result = seasonal_decompose(df_1['close'], model='multiplicative', period=30) #multiplicative  additive  # pandas.core.series.Series\n",
    "\n",
    "# 4개의 attributes 표현하기\n",
    "fig = plt.figure(figsize=(12,8))\n",
    "ax1 = fig.add_subplot(411)\n",
    "ax1.plot(result.observed)\n",
    "\n",
    "ax2 = fig.add_subplot(412)\n",
    "ax2.plot(result.trend)\n",
    "\n",
    "ax3 = fig.add_subplot(413)\n",
    "ax3.plot(result.seasonal)\n",
    "\n",
    "ax4 = fig.add_subplot(414)\n",
    "ax4.plot(result.resid)\n"
   ]
  },
  {
   "cell_type": "code",
   "execution_count": null,
   "metadata": {},
   "outputs": [],
   "source": [
    "result.observed, result.trend, result.seasonal, result.resid"
   ]
  },
  {
   "cell_type": "code",
   "execution_count": null,
   "metadata": {},
   "outputs": [],
   "source": [
    "df_2 = data[data['symbol']=='GOOG']['close']\n",
    "\n",
    "fig = plt.figure(figsize=(16,8))\n",
    "\n",
    "df_log = np.log(df_2)\n",
    "plt.plot(df_log, linewidth=1)\n",
    "\n",
    "moving_avg = df_log.rolling(12).mean() # 앞에서 부터 12일간의 평균 / 앞 11개의 data는 Nan\n",
    "std_dev = df_log.rolling(12).std() \n",
    "\n",
    "plt.subplot(121)\n",
    "plt.plot(moving_avg, color='red', label='mean', linewidth=2)\n",
    "plt.legend(loc='best')\n",
    "plt.title('moving average')\n",
    "\n",
    "plt.subplot(122)\n",
    "plt.plot(std_dev, color='black', label='standard deviation', linewidth=2)\n",
    "plt.legend(loc='best')\n",
    "plt.title('moving average')\n",
    "\n",
    "plt.show()"
   ]
  },
  {
   "cell_type": "code",
   "execution_count": null,
   "metadata": {},
   "outputs": [],
   "source": [
    "# Now we are going to create an ARIMA model and will train it with closing price of the stock on the train data. \n",
    "# so let us split the data into training and test set and visualize it. \n",
    "\n",
    "demarcation = int(len(df_log)*0.9) # 경계 구분\n",
    "demarcation\n",
    "train_data, test_data = df_log[3:demarcation], df_log[demarcation:]\n",
    "print(train_data.size, test_data.size)"
   ]
  },
  {
   "cell_type": "code",
   "execution_count": null,
   "metadata": {},
   "outputs": [],
   "source": [
    "plt.figure(figsize=(10,6))\n",
    "plt.plot(train_data)\n",
    "plt.plot(test_data)\n",
    "\n",
    "plt.show()"
   ]
  },
  {
   "cell_type": "code",
   "execution_count": null,
   "metadata": {},
   "outputs": [],
   "source": [
    "# ARIMA : differences d'th order / Auto Regression (Using earlier values Predicting basec on the other factors) / Moving average \n",
    "# combines autoregressive and differences \n",
    "# Using p time period of previous of data to predict d'th order differences \n",
    "# p'th order autoregression\n",
    "# d'th order differences \n",
    "# q'th order moving average "
   ]
  },
  {
   "cell_type": "code",
   "execution_count": null,
   "metadata": {},
   "outputs": [],
   "source": [
    "model_autoARIMA = auto_arima(train_data, start_p=0, start_q=0,\n",
    "                    test='adf',       # use adftest to find optimal 'd'\n",
    "                    max_p=3, max_q=3, # maximum p and q\n",
    "                    m=1,              # frequency of series\n",
    "                    d=None,           # let model determine 'd'\n",
    "                    seasonal=False,   # No Seasonality\n",
    "                    start_P=0, \n",
    "                    D=0, \n",
    "                    trace=True,\n",
    "                    error_action='ignore',  \n",
    "                    suppress_warnings=True, \n",
    "                    stepwise=True)\n",
    "\n",
    "print(model_autoARIMA.summary())\n",
    "model_autoARIMA.plot_diagnostics(figsize=(15,8))\n",
    "plt.show()"
   ]
  },
  {
   "cell_type": "code",
   "execution_count": null,
   "metadata": {},
   "outputs": [],
   "source": [
    "# top left : the residual errors seem to fluctuate around a mean zero and have a uniform variance. \n",
    "# top right: the density plot suggests normal distribution with mean zero \n",
    "# bottom left : All the dots should fall perfectly in line with the red line. Any significant deviations would imply the distribution is skewed \n",
    "# bottom right : The correlogram, aka, ACF plot show the residual error are not autocorrelated. Any autocorrelation would imply that there is some \n",
    "# pattern in the residual errors which are not explained in the model. So you will need to look for more X's(predictors) ro the model"
   ]
  },
  {
   "cell_type": "code",
   "execution_count": null,
   "metadata": {},
   "outputs": [],
   "source": [
    "model =ARIMA(train_data, order=(0,1,0))  \n",
    "fitted = mode.fit(train_data)\n",
    "print(fitte.summary())"
   ]
  }
 ],
 "metadata": {
  "kernelspec": {
   "display_name": "Python 3.9.7 ('data_analysis': venv)",
   "language": "python",
   "name": "python3"
  },
  "language_info": {
   "codemirror_mode": {
    "name": "ipython",
    "version": 3
   },
   "file_extension": ".py",
   "mimetype": "text/x-python",
   "name": "python",
   "nbconvert_exporter": "python",
   "pygments_lexer": "ipython3",
   "version": "3.9.7"
  },
  "orig_nbformat": 4,
  "vscode": {
   "interpreter": {
    "hash": "61790f9e100698b8cfb6b8d506f8b9f7c8a3e4374ed9e80603458cc0e21d312b"
   }
  }
 },
 "nbformat": 4,
 "nbformat_minor": 2
}
