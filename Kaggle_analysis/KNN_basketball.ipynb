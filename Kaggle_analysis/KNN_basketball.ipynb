{
 "metadata": {
  "language_info": {
   "codemirror_mode": {
    "name": "ipython",
    "version": 3
   },
   "file_extension": ".py",
   "mimetype": "text/x-python",
   "name": "python",
   "nbconvert_exporter": "python",
   "pygments_lexer": "ipython3",
   "version": "3.9.9-final"
  },
  "orig_nbformat": 2,
  "kernelspec": {
   "name": "python3",
   "display_name": "Python 3.9.9 64-bit",
   "metadata": {
    "interpreter": {
     "hash": "e7b3a6034bdbb97517a7e157a868360ea9556fc64bcbd52ab0af112bc2a38087"
    }
   }
  }
 },
 "nbformat": 4,
 "nbformat_minor": 2,
 "cells": [
  {
   "cell_type": "code",
   "execution_count": 65,
   "metadata": {},
   "outputs": [],
   "source": [
    "import numpy as np \n",
    "import pandas as pd  \n",
    "import matplotlib.pyplot as plt \n",
    "import seaborn as sns"
   ]
  },
  {
   "cell_type": "code",
   "execution_count": 66,
   "metadata": {},
   "outputs": [
    {
     "output_type": "execute_result",
     "data": {
      "text/plain": [
       "   Rk             Player Pos  Age   Tm   G  GS    MP   FG   FGA  ...    FT%  \\\n",
       "0   1   Precious Achiuwa  PF   21  MIA  61   4  12.1  2.0   3.7  ...  0.509   \n",
       "1   2       Jaylen Adams  PG   24  MIL   7   0   2.6  0.1   1.1  ...    NaN   \n",
       "2   3       Steven Adams   C   27  NOP  58  58  27.7  3.3   5.3  ...  0.444   \n",
       "3   4        Bam Adebayo   C   23  MIA  64  64  33.5  7.1  12.5  ...  0.799   \n",
       "4   5  LaMarcus Aldridge   C   35  TOT  26  23  25.9  5.4  11.4  ...  0.872   \n",
       "\n",
       "   ORB  DRB  TRB  AST  STL  BLK  TOV   PF   PTS  \n",
       "0  1.2  2.2  3.4  0.5  0.3  0.5  0.7  1.5   5.0  \n",
       "1  0.0  0.4  0.4  0.3  0.0  0.0  0.0  0.1   0.3  \n",
       "2  3.7  5.2  8.9  1.9  0.9  0.7  1.3  1.9   7.6  \n",
       "3  2.2  6.7  9.0  5.4  1.2  1.0  2.6  2.3  18.7  \n",
       "4  0.7  3.8  4.5  1.9  0.4  1.1  1.0  1.8  13.5  \n",
       "\n",
       "[5 rows x 30 columns]"
      ],
      "text/html": "<div>\n<style scoped>\n    .dataframe tbody tr th:only-of-type {\n        vertical-align: middle;\n    }\n\n    .dataframe tbody tr th {\n        vertical-align: top;\n    }\n\n    .dataframe thead th {\n        text-align: right;\n    }\n</style>\n<table border=\"1\" class=\"dataframe\">\n  <thead>\n    <tr style=\"text-align: right;\">\n      <th></th>\n      <th>Rk</th>\n      <th>Player</th>\n      <th>Pos</th>\n      <th>Age</th>\n      <th>Tm</th>\n      <th>G</th>\n      <th>GS</th>\n      <th>MP</th>\n      <th>FG</th>\n      <th>FGA</th>\n      <th>...</th>\n      <th>FT%</th>\n      <th>ORB</th>\n      <th>DRB</th>\n      <th>TRB</th>\n      <th>AST</th>\n      <th>STL</th>\n      <th>BLK</th>\n      <th>TOV</th>\n      <th>PF</th>\n      <th>PTS</th>\n    </tr>\n  </thead>\n  <tbody>\n    <tr>\n      <th>0</th>\n      <td>1</td>\n      <td>Precious Achiuwa</td>\n      <td>PF</td>\n      <td>21</td>\n      <td>MIA</td>\n      <td>61</td>\n      <td>4</td>\n      <td>12.1</td>\n      <td>2.0</td>\n      <td>3.7</td>\n      <td>...</td>\n      <td>0.509</td>\n      <td>1.2</td>\n      <td>2.2</td>\n      <td>3.4</td>\n      <td>0.5</td>\n      <td>0.3</td>\n      <td>0.5</td>\n      <td>0.7</td>\n      <td>1.5</td>\n      <td>5.0</td>\n    </tr>\n    <tr>\n      <th>1</th>\n      <td>2</td>\n      <td>Jaylen Adams</td>\n      <td>PG</td>\n      <td>24</td>\n      <td>MIL</td>\n      <td>7</td>\n      <td>0</td>\n      <td>2.6</td>\n      <td>0.1</td>\n      <td>1.1</td>\n      <td>...</td>\n      <td>NaN</td>\n      <td>0.0</td>\n      <td>0.4</td>\n      <td>0.4</td>\n      <td>0.3</td>\n      <td>0.0</td>\n      <td>0.0</td>\n      <td>0.0</td>\n      <td>0.1</td>\n      <td>0.3</td>\n    </tr>\n    <tr>\n      <th>2</th>\n      <td>3</td>\n      <td>Steven Adams</td>\n      <td>C</td>\n      <td>27</td>\n      <td>NOP</td>\n      <td>58</td>\n      <td>58</td>\n      <td>27.7</td>\n      <td>3.3</td>\n      <td>5.3</td>\n      <td>...</td>\n      <td>0.444</td>\n      <td>3.7</td>\n      <td>5.2</td>\n      <td>8.9</td>\n      <td>1.9</td>\n      <td>0.9</td>\n      <td>0.7</td>\n      <td>1.3</td>\n      <td>1.9</td>\n      <td>7.6</td>\n    </tr>\n    <tr>\n      <th>3</th>\n      <td>4</td>\n      <td>Bam Adebayo</td>\n      <td>C</td>\n      <td>23</td>\n      <td>MIA</td>\n      <td>64</td>\n      <td>64</td>\n      <td>33.5</td>\n      <td>7.1</td>\n      <td>12.5</td>\n      <td>...</td>\n      <td>0.799</td>\n      <td>2.2</td>\n      <td>6.7</td>\n      <td>9.0</td>\n      <td>5.4</td>\n      <td>1.2</td>\n      <td>1.0</td>\n      <td>2.6</td>\n      <td>2.3</td>\n      <td>18.7</td>\n    </tr>\n    <tr>\n      <th>4</th>\n      <td>5</td>\n      <td>LaMarcus Aldridge</td>\n      <td>C</td>\n      <td>35</td>\n      <td>TOT</td>\n      <td>26</td>\n      <td>23</td>\n      <td>25.9</td>\n      <td>5.4</td>\n      <td>11.4</td>\n      <td>...</td>\n      <td>0.872</td>\n      <td>0.7</td>\n      <td>3.8</td>\n      <td>4.5</td>\n      <td>1.9</td>\n      <td>0.4</td>\n      <td>1.1</td>\n      <td>1.0</td>\n      <td>1.8</td>\n      <td>13.5</td>\n    </tr>\n  </tbody>\n</table>\n<p>5 rows × 30 columns</p>\n</div>"
     },
     "metadata": {},
     "execution_count": 66
    }
   ],
   "source": [
    "df = pd.read_csv(r'C:\\labs\\src\\datasets\\basketball.csv')\n",
    "df.head()"
   ]
  },
  {
   "cell_type": "code",
   "execution_count": 67,
   "metadata": {},
   "outputs": [
    {
     "output_type": "stream",
     "name": "stdout",
     "text": [
      "<class 'pandas.core.frame.DataFrame'>\nRangeIndex: 500 entries, 0 to 499\nData columns (total 30 columns):\n #   Column  Non-Null Count  Dtype  \n---  ------  --------------  -----  \n 0   Rk      500 non-null    int64  \n 1   Player  500 non-null    object \n 2   Pos     500 non-null    object \n 3   Age     500 non-null    int64  \n 4   Tm      500 non-null    object \n 5   G       500 non-null    int64  \n 6   GS      500 non-null    int64  \n 7   MP      500 non-null    float64\n 8   FG      500 non-null    float64\n 9   FGA     500 non-null    float64\n 10  FG%     498 non-null    float64\n 11  3P      500 non-null    float64\n 12  3PA     500 non-null    float64\n 13  3P%     473 non-null    float64\n 14  2P      500 non-null    float64\n 15  2PA     500 non-null    float64\n 16  2P%     495 non-null    float64\n 17  eFG%    498 non-null    float64\n 18  FT      500 non-null    float64\n 19  FTA     500 non-null    float64\n 20  FT%     483 non-null    float64\n 21  ORB     500 non-null    float64\n 22  DRB     500 non-null    float64\n 23  TRB     500 non-null    float64\n 24  AST     500 non-null    float64\n 25  STL     500 non-null    float64\n 26  BLK     500 non-null    float64\n 27  TOV     500 non-null    float64\n 28  PF      500 non-null    float64\n 29  PTS     500 non-null    float64\ndtypes: float64(23), int64(4), object(3)\nmemory usage: 117.3+ KB\n"
     ]
    }
   ],
   "source": [
    "df.info()"
   ]
  },
  {
   "cell_type": "code",
   "execution_count": 68,
   "metadata": {},
   "outputs": [
    {
     "output_type": "execute_result",
     "data": {
      "text/plain": [
       "Rk        0.000\n",
       "Player    0.000\n",
       "Pos       0.000\n",
       "Age       0.000\n",
       "Tm        0.000\n",
       "G         0.000\n",
       "GS        0.000\n",
       "MP        0.000\n",
       "FG        0.000\n",
       "FGA       0.000\n",
       "FG%       0.004\n",
       "3P        0.000\n",
       "3PA       0.000\n",
       "3P%       0.054\n",
       "2P        0.000\n",
       "2PA       0.000\n",
       "2P%       0.010\n",
       "eFG%      0.004\n",
       "FT        0.000\n",
       "FTA       0.000\n",
       "FT%       0.034\n",
       "ORB       0.000\n",
       "DRB       0.000\n",
       "TRB       0.000\n",
       "AST       0.000\n",
       "STL       0.000\n",
       "BLK       0.000\n",
       "TOV       0.000\n",
       "PF        0.000\n",
       "PTS       0.000\n",
       "dtype: float64"
      ]
     },
     "metadata": {},
     "execution_count": 68
    }
   ],
   "source": [
    "df.isnull().sum()/len(df)"
   ]
  },
  {
   "cell_type": "code",
   "execution_count": 69,
   "metadata": {},
   "outputs": [
    {
     "output_type": "execute_result",
     "data": {
      "text/plain": [
       "      Pos  TRB  BLK   3P  AST\n",
       "0      PF  3.4  0.5  0.0  0.5\n",
       "1      PG  0.4  0.0  0.0  0.3\n",
       "2       C  8.9  0.7  0.0  1.9\n",
       "3       C  9.0  1.0  0.0  5.4\n",
       "4       C  4.5  1.1  1.2  1.9\n",
       "..    ...  ...  ...  ...  ...\n",
       "495    SF  5.3  1.0  1.0  1.3\n",
       "496  C-PF  7.0  0.6  1.8  2.9\n",
       "497     C  6.1  0.6  1.8  2.1\n",
       "498    PF  8.4  0.6  1.8  4.1\n",
       "499    SG  1.6  0.1  0.6  0.5\n",
       "\n",
       "[500 rows x 5 columns]"
      ],
      "text/html": "<div>\n<style scoped>\n    .dataframe tbody tr th:only-of-type {\n        vertical-align: middle;\n    }\n\n    .dataframe tbody tr th {\n        vertical-align: top;\n    }\n\n    .dataframe thead th {\n        text-align: right;\n    }\n</style>\n<table border=\"1\" class=\"dataframe\">\n  <thead>\n    <tr style=\"text-align: right;\">\n      <th></th>\n      <th>Pos</th>\n      <th>TRB</th>\n      <th>BLK</th>\n      <th>3P</th>\n      <th>AST</th>\n    </tr>\n  </thead>\n  <tbody>\n    <tr>\n      <th>0</th>\n      <td>PF</td>\n      <td>3.4</td>\n      <td>0.5</td>\n      <td>0.0</td>\n      <td>0.5</td>\n    </tr>\n    <tr>\n      <th>1</th>\n      <td>PG</td>\n      <td>0.4</td>\n      <td>0.0</td>\n      <td>0.0</td>\n      <td>0.3</td>\n    </tr>\n    <tr>\n      <th>2</th>\n      <td>C</td>\n      <td>8.9</td>\n      <td>0.7</td>\n      <td>0.0</td>\n      <td>1.9</td>\n    </tr>\n    <tr>\n      <th>3</th>\n      <td>C</td>\n      <td>9.0</td>\n      <td>1.0</td>\n      <td>0.0</td>\n      <td>5.4</td>\n    </tr>\n    <tr>\n      <th>4</th>\n      <td>C</td>\n      <td>4.5</td>\n      <td>1.1</td>\n      <td>1.2</td>\n      <td>1.9</td>\n    </tr>\n    <tr>\n      <th>...</th>\n      <td>...</td>\n      <td>...</td>\n      <td>...</td>\n      <td>...</td>\n      <td>...</td>\n    </tr>\n    <tr>\n      <th>495</th>\n      <td>SF</td>\n      <td>5.3</td>\n      <td>1.0</td>\n      <td>1.0</td>\n      <td>1.3</td>\n    </tr>\n    <tr>\n      <th>496</th>\n      <td>C-PF</td>\n      <td>7.0</td>\n      <td>0.6</td>\n      <td>1.8</td>\n      <td>2.9</td>\n    </tr>\n    <tr>\n      <th>497</th>\n      <td>C</td>\n      <td>6.1</td>\n      <td>0.6</td>\n      <td>1.8</td>\n      <td>2.1</td>\n    </tr>\n    <tr>\n      <th>498</th>\n      <td>PF</td>\n      <td>8.4</td>\n      <td>0.6</td>\n      <td>1.8</td>\n      <td>4.1</td>\n    </tr>\n    <tr>\n      <th>499</th>\n      <td>SG</td>\n      <td>1.6</td>\n      <td>0.1</td>\n      <td>0.6</td>\n      <td>0.5</td>\n    </tr>\n  </tbody>\n</table>\n<p>500 rows × 5 columns</p>\n</div>"
     },
     "metadata": {},
     "execution_count": 69
    }
   ],
   "source": [
    "df_data = df[['Pos', 'TRB', 'BLK', '3P', 'AST']]\n",
    "df_data"
   ]
  },
  {
   "cell_type": "code",
   "execution_count": 70,
   "metadata": {},
   "outputs": [
    {
     "output_type": "execute_result",
     "data": {
      "text/plain": [
       "Pos    0.0\n",
       "TRB    0.0\n",
       "BLK    0.0\n",
       "3P     0.0\n",
       "AST    0.0\n",
       "dtype: float64"
      ]
     },
     "metadata": {},
     "execution_count": 70
    }
   ],
   "source": [
    "df_data.isnull().sum()/len(df_data)"
   ]
  },
  {
   "cell_type": "code",
   "execution_count": 71,
   "metadata": {},
   "outputs": [
    {
     "output_type": "execute_result",
     "data": {
      "text/plain": [
       "SG       112\n",
       "C         98\n",
       "PF        96\n",
       "SF        96\n",
       "PG        85\n",
       "SF-PF      3\n",
       "SF-SG      2\n",
       "SG-PG      2\n",
       "C-PF       2\n",
       "SG-SF      1\n",
       "PF-C       1\n",
       "PG-SG      1\n",
       "PF-SF      1\n",
       "Name: Pos, dtype: int64"
      ]
     },
     "metadata": {},
     "execution_count": 71
    }
   ],
   "source": [
    "df_data['Pos'].value_counts()"
   ]
  },
  {
   "cell_type": "code",
   "execution_count": 72,
   "metadata": {},
   "outputs": [
    {
     "output_type": "execute_result",
     "data": {
      "text/plain": [
       "    Pos  TRB  BLK   3P  AST\n",
       "1    PG  0.4  0.0  0.0  0.3\n",
       "2     C  8.9  0.7  0.0  1.9\n",
       "3     C  9.0  1.0  0.0  5.4\n",
       "4     C  4.5  1.1  1.2  1.9\n",
       "5     C  4.5  0.9  1.3  1.7\n",
       "..   ..  ...  ...  ...  ...\n",
       "492  SG  5.7  0.2  2.8  4.2\n",
       "493  SG  4.8  0.5  2.5  5.0\n",
       "494  SG  3.5  0.5  1.0  3.5\n",
       "497   C  6.1  0.6  1.8  2.1\n",
       "499  SG  1.6  0.1  0.6  0.5\n",
       "\n",
       "[295 rows x 5 columns]"
      ],
      "text/html": "<div>\n<style scoped>\n    .dataframe tbody tr th:only-of-type {\n        vertical-align: middle;\n    }\n\n    .dataframe tbody tr th {\n        vertical-align: top;\n    }\n\n    .dataframe thead th {\n        text-align: right;\n    }\n</style>\n<table border=\"1\" class=\"dataframe\">\n  <thead>\n    <tr style=\"text-align: right;\">\n      <th></th>\n      <th>Pos</th>\n      <th>TRB</th>\n      <th>BLK</th>\n      <th>3P</th>\n      <th>AST</th>\n    </tr>\n  </thead>\n  <tbody>\n    <tr>\n      <th>1</th>\n      <td>PG</td>\n      <td>0.4</td>\n      <td>0.0</td>\n      <td>0.0</td>\n      <td>0.3</td>\n    </tr>\n    <tr>\n      <th>2</th>\n      <td>C</td>\n      <td>8.9</td>\n      <td>0.7</td>\n      <td>0.0</td>\n      <td>1.9</td>\n    </tr>\n    <tr>\n      <th>3</th>\n      <td>C</td>\n      <td>9.0</td>\n      <td>1.0</td>\n      <td>0.0</td>\n      <td>5.4</td>\n    </tr>\n    <tr>\n      <th>4</th>\n      <td>C</td>\n      <td>4.5</td>\n      <td>1.1</td>\n      <td>1.2</td>\n      <td>1.9</td>\n    </tr>\n    <tr>\n      <th>5</th>\n      <td>C</td>\n      <td>4.5</td>\n      <td>0.9</td>\n      <td>1.3</td>\n      <td>1.7</td>\n    </tr>\n    <tr>\n      <th>...</th>\n      <td>...</td>\n      <td>...</td>\n      <td>...</td>\n      <td>...</td>\n      <td>...</td>\n    </tr>\n    <tr>\n      <th>492</th>\n      <td>SG</td>\n      <td>5.7</td>\n      <td>0.2</td>\n      <td>2.8</td>\n      <td>4.2</td>\n    </tr>\n    <tr>\n      <th>493</th>\n      <td>SG</td>\n      <td>4.8</td>\n      <td>0.5</td>\n      <td>2.5</td>\n      <td>5.0</td>\n    </tr>\n    <tr>\n      <th>494</th>\n      <td>SG</td>\n      <td>3.5</td>\n      <td>0.5</td>\n      <td>1.0</td>\n      <td>3.5</td>\n    </tr>\n    <tr>\n      <th>497</th>\n      <td>C</td>\n      <td>6.1</td>\n      <td>0.6</td>\n      <td>1.8</td>\n      <td>2.1</td>\n    </tr>\n    <tr>\n      <th>499</th>\n      <td>SG</td>\n      <td>1.6</td>\n      <td>0.1</td>\n      <td>0.6</td>\n      <td>0.5</td>\n    </tr>\n  </tbody>\n</table>\n<p>295 rows × 5 columns</p>\n</div>"
     },
     "metadata": {},
     "execution_count": 72
    }
   ],
   "source": [
    "df_data = df_data.loc[df_data['Pos'].isin(['C', 'PG', 'SG'])]\n",
    "df_data"
   ]
  },
  {
   "cell_type": "code",
   "execution_count": 73,
   "metadata": {},
   "outputs": [
    {
     "output_type": "execute_result",
     "data": {
      "text/plain": [
       "G    197\n",
       "C     98\n",
       "Name: Pos, dtype: int64"
      ]
     },
     "metadata": {},
     "execution_count": 73
    }
   ],
   "source": [
    "df_data.loc[df_data['Pos'].isin(['PG', 'SG']), 'Pos'] = 'G'\n",
    "df_data['Pos'].value_counts()"
   ]
  },
  {
   "cell_type": "code",
   "execution_count": 74,
   "metadata": {},
   "outputs": [
    {
     "output_type": "execute_result",
     "data": {
      "text/plain": [
       "array([['G'],\n",
       "       ['C'],\n",
       "       ['C'],\n",
       "       ['C'],\n",
       "       ['C']], dtype=object)"
      ]
     },
     "metadata": {},
     "execution_count": 74
    }
   ],
   "source": [
    "from sklearn.model_selection import train_test_split \n",
    "y_df = df_data[['Pos']]\n",
    "x_df = df_data[['TRB', 'AST']]\n",
    "y_df.values[:5] # more..."
   ]
  },
  {
   "cell_type": "code",
   "execution_count": 75,
   "metadata": {},
   "outputs": [
    {
     "output_type": "execute_result",
     "data": {
      "text/plain": [
       "pandas.core.frame.DataFrame"
      ]
     },
     "metadata": {},
     "execution_count": 75
    }
   ],
   "source": [
    "x_train, x_test, y_train, y_test = train_test_split(x_df, y_df, test_size=0.25, random_state=15)\n",
    "type(x_train)"
   ]
  },
  {
   "cell_type": "code",
   "execution_count": 76,
   "metadata": {},
   "outputs": [],
   "source": [
    "from sklearn.neighbors import KNeighborsClassifier\n",
    "from sklearn.model_selection import cross_val_score \n",
    "\n",
    "k_values = range(3, len(x_train)//2, 2) # k should be odd number\n",
    "# k_values = [2*i+1 for i in range(1, len(x_train))]\n",
    "k_values\n",
    "cv_scores = []"
   ]
  },
  {
   "cell_type": "code",
   "execution_count": 77,
   "metadata": {},
   "outputs": [
    {
     "output_type": "execute_result",
     "data": {
      "text/plain": [
       "[0.9051383399209485,\n",
       " 0.9233201581027668,\n",
       " 0.9185770750988143,\n",
       " 0.9140316205533597,\n",
       " 0.9142292490118578,\n",
       " 0.9187747035573123,\n",
       " 0.9233201581027668,\n",
       " 0.9187747035573123,\n",
       " 0.9096837944664034,\n",
       " 0.9051383399209486,\n",
       " 0.9096837944664031,\n",
       " 0.9096837944664031,\n",
       " 0.9142292490118578,\n",
       " 0.9185770750988143,\n",
       " 0.9049407114624506,\n",
       " 0.9049407114624506,\n",
       " 0.900395256916996,\n",
       " 0.9049407114624506,\n",
       " 0.8958498023715414,\n",
       " 0.9049407114624506,\n",
       " 0.8960474308300395,\n",
       " 0.8913043478260869,\n",
       " 0.8867588932806324,\n",
       " 0.8867588932806324,\n",
       " 0.8867588932806324,\n",
       " 0.8867588932806324,\n",
       " 0.8913043478260869,\n",
       " 0.8867588932806324,\n",
       " 0.8867588932806324,\n",
       " 0.8822134387351779,\n",
       " 0.8913043478260869,\n",
       " 0.8869565217391303,\n",
       " 0.8869565217391303,\n",
       " 0.882411067193676,\n",
       " 0.882411067193676,\n",
       " 0.882411067193676,\n",
       " 0.8733201581027668,\n",
       " 0.8642292490118576,\n",
       " 0.8733201581027668,\n",
       " 0.8687747035573123,\n",
       " 0.8642292490118576,\n",
       " 0.8687747035573123,\n",
       " 0.8551383399209487,\n",
       " 0.8551383399209487,\n",
       " 0.8594861660079051,\n",
       " 0.8503952569169961,\n",
       " 0.8413043478260869,\n",
       " 0.832213438735178,\n",
       " 0.8276679841897234,\n",
       " 0.8231225296442688,\n",
       " 0.8053359683794467,\n",
       " 0.791699604743083,\n",
       " 0.7782608695652173,\n",
       " 0.7646245059288538]"
      ]
     },
     "metadata": {},
     "execution_count": 77
    }
   ],
   "source": [
    "for k in k_values:\n",
    "    knn = KNeighborsClassifier(n_neighbors=k)\n",
    "    scores = cross_val_score(knn, x_train, y_train, cv=10, scoring='accuracy')\n",
    "    cv_scores.append(scores.mean())\n",
    "cv_scores"
   ]
  },
  {
   "cell_type": "code",
   "execution_count": null,
   "metadata": {},
   "outputs": [],
   "source": [
    "sns.lineplot(x=k_values, y=cv_scores)\n",
    "plt.show()"
   ]
  },
  {
   "cell_type": "code",
   "execution_count": 40,
   "metadata": {},
   "outputs": [
    {
     "output_type": "execute_result",
     "data": {
      "text/plain": [
       "5"
      ]
     },
     "metadata": {},
     "execution_count": 40
    }
   ],
   "source": [
    "max_idx = np.argmax(cv_scores)\n",
    "k = k_values[max_idx]\n",
    "k"
   ]
  },
  {
   "cell_type": "code",
   "execution_count": 43,
   "metadata": {},
   "outputs": [
    {
     "output_type": "execute_result",
     "data": {
      "text/plain": [
       "KNeighborsClassifier()"
      ],
      "text/html": "<style>#sk-container-id-1 {color: black;background-color: white;}#sk-container-id-1 pre{padding: 0;}#sk-container-id-1 div.sk-toggleable {background-color: white;}#sk-container-id-1 label.sk-toggleable__label {cursor: pointer;display: block;width: 100%;margin-bottom: 0;padding: 0.3em;box-sizing: border-box;text-align: center;}#sk-container-id-1 label.sk-toggleable__label-arrow:before {content: \"▸\";float: left;margin-right: 0.25em;color: #696969;}#sk-container-id-1 label.sk-toggleable__label-arrow:hover:before {color: black;}#sk-container-id-1 div.sk-estimator:hover label.sk-toggleable__label-arrow:before {color: black;}#sk-container-id-1 div.sk-toggleable__content {max-height: 0;max-width: 0;overflow: hidden;text-align: left;background-color: #f0f8ff;}#sk-container-id-1 div.sk-toggleable__content pre {margin: 0.2em;color: black;border-radius: 0.25em;background-color: #f0f8ff;}#sk-container-id-1 input.sk-toggleable__control:checked~div.sk-toggleable__content {max-height: 200px;max-width: 100%;overflow: auto;}#sk-container-id-1 input.sk-toggleable__control:checked~label.sk-toggleable__label-arrow:before {content: \"▾\";}#sk-container-id-1 div.sk-estimator input.sk-toggleable__control:checked~label.sk-toggleable__label {background-color: #d4ebff;}#sk-container-id-1 div.sk-label input.sk-toggleable__control:checked~label.sk-toggleable__label {background-color: #d4ebff;}#sk-container-id-1 input.sk-hidden--visually {border: 0;clip: rect(1px 1px 1px 1px);clip: rect(1px, 1px, 1px, 1px);height: 1px;margin: -1px;overflow: hidden;padding: 0;position: absolute;width: 1px;}#sk-container-id-1 div.sk-estimator {font-family: monospace;background-color: #f0f8ff;border: 1px dotted black;border-radius: 0.25em;box-sizing: border-box;margin-bottom: 0.5em;}#sk-container-id-1 div.sk-estimator:hover {background-color: #d4ebff;}#sk-container-id-1 div.sk-parallel-item::after {content: \"\";width: 100%;border-bottom: 1px solid gray;flex-grow: 1;}#sk-container-id-1 div.sk-label:hover label.sk-toggleable__label {background-color: #d4ebff;}#sk-container-id-1 div.sk-serial::before {content: \"\";position: absolute;border-left: 1px solid gray;box-sizing: border-box;top: 0;bottom: 0;left: 50%;z-index: 0;}#sk-container-id-1 div.sk-serial {display: flex;flex-direction: column;align-items: center;background-color: white;padding-right: 0.2em;padding-left: 0.2em;position: relative;}#sk-container-id-1 div.sk-item {position: relative;z-index: 1;}#sk-container-id-1 div.sk-parallel {display: flex;align-items: stretch;justify-content: center;background-color: white;position: relative;}#sk-container-id-1 div.sk-item::before, #sk-container-id-1 div.sk-parallel-item::before {content: \"\";position: absolute;border-left: 1px solid gray;box-sizing: border-box;top: 0;bottom: 0;left: 50%;z-index: -1;}#sk-container-id-1 div.sk-parallel-item {display: flex;flex-direction: column;z-index: 1;position: relative;background-color: white;}#sk-container-id-1 div.sk-parallel-item:first-child::after {align-self: flex-end;width: 50%;}#sk-container-id-1 div.sk-parallel-item:last-child::after {align-self: flex-start;width: 50%;}#sk-container-id-1 div.sk-parallel-item:only-child::after {width: 0;}#sk-container-id-1 div.sk-dashed-wrapped {border: 1px dashed gray;margin: 0 0.4em 0.5em 0.4em;box-sizing: border-box;padding-bottom: 0.4em;background-color: white;}#sk-container-id-1 div.sk-label label {font-family: monospace;font-weight: bold;display: inline-block;line-height: 1.2em;}#sk-container-id-1 div.sk-label-container {text-align: center;}#sk-container-id-1 div.sk-container {/* jupyter's `normalize.less` sets `[hidden] { display: none; }` but bootstrap.min.css set `[hidden] { display: none !important; }` so we also need the `!important` here to be able to override the default hidden behavior on the sphinx rendered scikit-learn.org. See: https://github.com/scikit-learn/scikit-learn/issues/21755 */display: inline-block !important;position: relative;}#sk-container-id-1 div.sk-text-repr-fallback {display: none;}</style><div id=\"sk-container-id-1\" class=\"sk-top-container\"><div class=\"sk-text-repr-fallback\"><pre>KNeighborsClassifier()</pre><b>In a Jupyter environment, please rerun this cell to show the HTML representation or trust the notebook. <br />On GitHub, the HTML representation is unable to render, please try loading this page with nbviewer.org.</b></div><div class=\"sk-container\" hidden><div class=\"sk-item\"><div class=\"sk-estimator sk-toggleable\"><input class=\"sk-toggleable__control sk-hidden--visually\" id=\"sk-estimator-id-1\" type=\"checkbox\" checked><label for=\"sk-estimator-id-1\" class=\"sk-toggleable__label sk-toggleable__label-arrow\">KNeighborsClassifier</label><div class=\"sk-toggleable__content\"><pre>KNeighborsClassifier()</pre></div></div></div></div></div>"
     },
     "metadata": {},
     "execution_count": 43
    }
   ],
   "source": [
    "knn = KNeighborsClassifier(n_neighbors=5)\n",
    "knn.fit(x_train, y_train)"
   ]
  },
  {
   "cell_type": "code",
   "execution_count": 52,
   "metadata": {},
   "outputs": [
    {
     "output_type": "execute_result",
     "data": {
      "text/plain": [
       "array(['C', 'G', 'G', 'C', 'G', 'G', 'C', 'G', 'G', 'G', 'G', 'G', 'G',\n",
       "       'G', 'G', 'G', 'G', 'G', 'C', 'C', 'G', 'C', 'G', 'G', 'G', 'C',\n",
       "       'C', 'G', 'G', 'G', 'G', 'G', 'G', 'G', 'G', 'G', 'G', 'G', 'G',\n",
       "       'C', 'G', 'G', 'G', 'G', 'C', 'G', 'G', 'G', 'G', 'C', 'G', 'G',\n",
       "       'G', 'C', 'G', 'G', 'C', 'G', 'G', 'G', 'G', 'G', 'G', 'C', 'G',\n",
       "       'G', 'C', 'C', 'C', 'G', 'G', 'G', 'G', 'C'], dtype=object)"
      ]
     },
     "metadata": {},
     "execution_count": 52
    }
   ],
   "source": [
    "y_pred = knn.predict(x_test)\n",
    "y_pred"
   ]
  },
  {
   "cell_type": "code",
   "execution_count": 57,
   "metadata": {},
   "outputs": [
    {
     "output_type": "execute_result",
     "data": {
      "text/plain": [
       "(74,)"
      ]
     },
     "metadata": {},
     "execution_count": 57
    }
   ],
   "source": [
    "y_pred.shape"
   ]
  },
  {
   "cell_type": "code",
   "execution_count": 61,
   "metadata": {},
   "outputs": [
    {
     "output_type": "execute_result",
     "data": {
      "text/plain": [
       "array(['G', 'G', 'G', 'C', 'C', 'G', 'C', 'G', 'G', 'G', 'G', 'G', 'G',\n",
       "       'G', 'G', 'G', 'G', 'G', 'G', 'C', 'G', 'C', 'G', 'C', 'G', 'G',\n",
       "       'C', 'G', 'G', 'G', 'G', 'G', 'G', 'G', 'C', 'G', 'G', 'G', 'G',\n",
       "       'C', 'G', 'G', 'G', 'G', 'C', 'G', 'G', 'G', 'G', 'C', 'G', 'G',\n",
       "       'G', 'C', 'G', 'G', 'C', 'G', 'G', 'G', 'G', 'G', 'G', 'C', 'G',\n",
       "       'G', 'G', 'C', 'C', 'G', 'C', 'C', 'G', 'G'], dtype=object)"
      ]
     },
     "metadata": {},
     "execution_count": 61
    }
   ],
   "source": [
    "y_test.values.ravel()"
   ]
  },
  {
   "cell_type": "code",
   "execution_count": 64,
   "metadata": {},
   "outputs": [
    {
     "output_type": "stream",
     "name": "stdout",
     "text": [
      "테스트 셋 관측 수 :  74\n오분류 관측 수 :  10\n"
     ]
    }
   ],
   "source": [
    "print('테스트 셋 관측 수 : ', y_test.shape[0])\n",
    "print('오분류 관측 수 : ', sum(knn.predict(x_test) != y_test.values.ravel()))"
   ]
  },
  {
   "cell_type": "code",
   "execution_count": null,
   "metadata": {},
   "outputs": [],
   "source": []
  },
  {
   "cell_type": "code",
   "execution_count": null,
   "metadata": {},
   "outputs": [],
   "source": []
  },
  {
   "cell_type": "code",
   "execution_count": null,
   "metadata": {},
   "outputs": [],
   "source": []
  },
  {
   "cell_type": "code",
   "execution_count": null,
   "metadata": {},
   "outputs": [],
   "source": []
  },
  {
   "cell_type": "code",
   "execution_count": null,
   "metadata": {},
   "outputs": [],
   "source": []
  }
 ]
}
